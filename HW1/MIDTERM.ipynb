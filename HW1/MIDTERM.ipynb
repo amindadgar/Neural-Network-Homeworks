{
 "cells": [
  {
   "cell_type": "markdown",
   "id": "c2f1fa1f-dabc-4b3a-9837-6bd2f784c25d",
   "metadata": {},
   "source": [
    "# Neural Network Midterm\n",
    "Seyed Mohammad Amin Dadgar <br>\n",
    "student number: 4003624016\n"
   ]
  },
  {
   "cell_type": "code",
   "execution_count": 1,
   "id": "ffedfe6b-c181-4aaf-bafa-cf786d10fe77",
   "metadata": {},
   "outputs": [],
   "source": [
    "import numpy as np\n",
    "import matplotlib.pyplot as plt\n",
    "from neurolab.trans import HardLim"
   ]
  },
  {
   "cell_type": "markdown",
   "id": "f0d44c4b-c683-4d10-b5b3-75e1e4e4b399",
   "metadata": {},
   "source": [
    "# Question 2"
   ]
  },
  {
   "cell_type": "markdown",
   "id": "21293593-4d8f-42c1-8210-b41d29ef66cd",
   "metadata": {},
   "source": [
    "## Part 1"
   ]
  },
  {
   "cell_type": "code",
   "execution_count": 2,
   "id": "8e167252-fa49-4b0b-b51d-2aa83089d9ff",
   "metadata": {},
   "outputs": [],
   "source": [
    "################ Enter the question values: Points and Target outputs ################\n",
    "Points = np.array([[1,4], [1,5], [2,4], [2,5], [3,1], [3,2], [4,1], [4,2]])\n",
    "Targets = np.array([0, 0, 0, 0, 1, 1, 1, 1])"
   ]
  },
  {
   "cell_type": "code",
   "execution_count": 3,
   "id": "45006df3-fde2-4d6f-b556-3ea25c9c77f4",
   "metadata": {},
   "outputs": [],
   "source": [
    "################ Initialize the weights and bias as a random number ################\n",
    "\n",
    "## fix the seed\n",
    "np.random.seed(5)\n",
    "## initial weight\n",
    "weight = np.random.randint(low=-3, high=3, size=2)\n",
    "\n",
    "## coef array is made to make the bias negative or positive randomly\n",
    "bias_coef_arr = [-1 ,1]\n",
    "## create bias array to save the training history\n",
    "bias = ( np.random.rand() * 10 ) * bias_coef_arr[np.random.randint(2)]\n",
    "\n",
    "## transfer function\n",
    "tr_func = HardLim()"
   ]
  },
  {
   "cell_type": "code",
   "execution_count": 4,
   "id": "56d6dc7b-d3d1-41d6-8d37-9a09e935b5c3",
   "metadata": {},
   "outputs": [
    {
     "data": {
      "text/plain": [
       "array([0, 2])"
      ]
     },
     "execution_count": 4,
     "metadata": {},
     "output_type": "execute_result"
    }
   ],
   "source": [
    "weight"
   ]
  },
  {
   "cell_type": "code",
   "execution_count": 5,
   "id": "c9b5471e-f777-4662-8e7b-c885a58d8cdd",
   "metadata": {},
   "outputs": [],
   "source": [
    "\n",
    "\n",
    "def single_neuron_perceptron_learning(initial_weight, initial_bias, Points, Targets, transfer_function, threshold=100):\n",
    "    \"\"\"\n",
    "    single neuron learning with perceptron rule\n",
    "    initial_weight and initial_bias is the initial parameters of the network\n",
    "    Points and Targets are our dataset\n",
    "    transfer_function is the transfer function or the activation function of the network\n",
    "    threshold is set to 100 for default if the neron cannot learn the patter\n",
    "    \n",
    "    the output of this function is bias and weight change history\n",
    "    \"\"\"\n",
    "    \n",
    "    DATASET_LENGHT = len(Points)\n",
    "    \n",
    "    weights = [[initial_weight]]\n",
    "    biases = [[initial_bias]]\n",
    "    ## the learning loop\n",
    "    ## learning_iteration is the threshold of learning\n",
    "    learning_iteration = 0\n",
    "    while learning_iteration < threshold:\n",
    "        ## create a variable that checks in an iteration the weight or bias is changed\n",
    "        ## reset the variable for each iteration\n",
    "        change_of_W_b = False\n",
    "        \n",
    "        ## the weights and biases for each iteration will be saved in these two variables\n",
    "        ## weights_iteration and biases_iteration \n",
    "        if learning_iteration == 0:\n",
    "            weights_iteration = [initial_weight]\n",
    "            biases_iteration = [initial_bias]\n",
    "        else :  \n",
    "            ## else get the last weight and bias as initial weight and initial bias of the iteration\n",
    "            last_weights_index = len(weights[ learning_iteration- 1]) -1\n",
    "            \n",
    "            weights_iteration = [ weights[learning_iteration - 1][ last_weights_index ]]\n",
    "            biases_iteration = [ biases[learning_iteration -1][ last_weights_index ]]\n",
    "        \n",
    "        ## apply the learning rule for each neuron\n",
    "        for idx, p in enumerate(Points):\n",
    "            actual_output = transfer_function(weights_iteration[idx].dot(p) + biases_iteration[idx])\n",
    "            error = Targets[idx] - actual_output\n",
    "\n",
    "            if error != 0:\n",
    "                change_of_W_b = True\n",
    "                \n",
    "            weight_new = weights_iteration[idx] + error * p\n",
    "            bias_new = biases_iteration[idx] + error\n",
    "\n",
    "            weights_iteration.append(weight_new)\n",
    "            biases_iteration.append(bias_new)\n",
    "        \n",
    "        ## if in the last iteration the weights and biase didn't change, \n",
    "        ## the neron has learned the pattern So break the learning loop\n",
    "        if change_of_W_b == False:\n",
    "            print(\"✅ The solution had been found!\\nEnding the loop at iteration: %d\" % learning_iteration)\n",
    "            ## break the loop\n",
    "            break\n",
    "            \n",
    "            \n",
    "        ## save the last iteration data\n",
    "        weights[learning_iteration].extend(weights_iteration)\n",
    "        biases[learning_iteration].extend(biases_iteration)\n",
    "        ## increase the learning iteration count \n",
    "        learning_iteration +=1\n",
    "        \n",
    "        if learning_iteration == threshold:\n",
    "            history_dict = {\n",
    "                \"biases\": biases,\n",
    "                \"weights\": weights,\n",
    "                \"final_weight\": np.NaN,\n",
    "                \"final_bias\": np.NaN\n",
    "            }\n",
    "        else :\n",
    "            ## get the final bias\n",
    "            last_weigh_index = len(weights[learning_iteration - 1]) - 1\n",
    "            final_weight = weights[learning_iteration - 1][last_weigh_index]\n",
    "            final_bias = biases[learning_iteration - 1][last_weigh_index]\n",
    "            history_dict = {\"biases\": biases,\n",
    "                   \"weights\": weights,\n",
    "                   \"final_weight\": final_weight,\n",
    "                    \"final_bias\": final_bias}\n",
    "\n",
    "\n",
    "    \n",
    "    return history_dict"
   ]
  },
  {
   "cell_type": "code",
   "execution_count": 6,
   "id": "1cffcd8d-d2a5-480d-96a1-84a384d0a8ad",
   "metadata": {},
   "outputs": [
    {
     "name": "stdout",
     "output_type": "stream",
     "text": [
      "✅ The solution had been found!\n",
      "Ending the loop at iteration: 1\n"
     ]
    }
   ],
   "source": [
    "history = single_neuron_perceptron_learning(weight, bias, Points, Targets, tr_func)"
   ]
  },
  {
   "cell_type": "code",
   "execution_count": 7,
   "id": "d5428a35-28f0-4baa-a2d2-76a3a031425c",
   "metadata": {},
   "outputs": [
    {
     "name": "stdout",
     "output_type": "stream",
     "text": [
      "Final Weight:  [ 2. -1.]\n",
      "Final Bias:  -2.067191553394264\n"
     ]
    }
   ],
   "source": [
    "print(\"Final Weight: \",history[\"final_weight\"])\n",
    "print(\"Final Bias: \",history[\"final_bias\"])"
   ]
  },
  {
   "cell_type": "markdown",
   "id": "0fd1b8e1-765d-4d3e-9c0c-fa2e3d66e078",
   "metadata": {},
   "source": [
    "## we will plot the data the the weight vector and the decision boundary line\n",
    "$$ \n",
    "\\begin{equation} \n",
    "    slopeFunction = \\frac{y_1 - y_2}{x_1 - x_2} \n",
    "\\end{equation}\n",
    "$$\n",
    "decision boundary is orthogonal to the weights slope <br>\n",
    "$$\n",
    "\\begin{equation}\n",
    "    decisionBoundarySlope = - \\frac{1}{weightsSlope}\n",
    "\\end{equation}\n",
    "$$"
   ]
  },
  {
   "cell_type": "code",
   "execution_count": 8,
   "id": "76461dd7-933f-489e-970a-bfd0451a9ab4",
   "metadata": {},
   "outputs": [
    {
     "data": {
      "image/png": "[encoded data removed]",
      "text/plain": [
       "<Figure size 432x288 with 1 Axes>"
      ]
     },
     "metadata": {
      "needs_background": "light"
     },
     "output_type": "display_data"
    }
   ],
   "source": [
    "## the first 4 points are for class 1\n",
    "## the second 4 points are for calss 2 \n",
    "plt.scatter(Points[:4,0], Points[:4,1])\n",
    "plt.scatter(Points[4:,0], Points[4:,1])\n",
    "\n",
    "plt.quiver(0 ,0, history[\"final_weight\"][0], history[\"final_weight\"][1], scale=21  )\n",
    "\n",
    "decision_x = np.linspace(-1 , 5, 50)\n",
    "\n",
    "slope_weight = (0 - history[\"final_weight\"][1]) / (0 - history[\"final_weight\"][0])\n",
    "\n",
    "slope_decision_boundary = -1 / slope_weight\n",
    "decision_y = decision_x * slope_decision_boundary\n",
    "\n",
    "plt.plot(decision_x, decision_y)\n",
    "plt.title(\"Dataset and the decision line found by perceptron learning rule\")\n",
    "plt.xlabel(\"X\")\n",
    "plt.ylabel(\"Y\")\n",
    "plt.text(1 , -0.8 ,\"weight vector\")\n",
    "plt.show()"
   ]
  },
  {
   "cell_type": "markdown",
   "id": "dba5e53f-74b8-45bd-8492-83b3cc81f3b5",
   "metadata": {},
   "source": [
    "## Part 2: Test the network "
   ]
  },
  {
   "cell_type": "code",
   "execution_count": 16,
   "id": "1b524b5e-05dd-4523-ba87-eb8c14b0f126",
   "metadata": {},
   "outputs": [],
   "source": [
    "\n",
    "weight = history[\"final_weight\"]\n",
    "bias = history[\"final_bias\"]\n",
    "\n",
    "\n",
    "## Our transfer function was created in part a, so we would like to re-use it\n",
    "actual_output = tr_func(Points.dot(weight) + bias)"
   ]
  },
  {
   "cell_type": "code",
   "execution_count": 18,
   "id": "e036dace-f94d-4272-9b08-bb1ad5d451a4",
   "metadata": {},
   "outputs": [
    {
     "data": {
      "text/plain": [
       "array([ True,  True,  True,  True,  True,  True,  True,  True])"
      ]
     },
     "execution_count": 18,
     "metadata": {},
     "output_type": "execute_result"
    }
   ],
   "source": [
    "## check the outputs to the network!\n",
    "actual_output == Targets"
   ]
  },
  {
   "cell_type": "markdown",
   "id": "696c9d7e-4b45-448b-b03a-499ab70213e5",
   "metadata": {},
   "source": [
    "**As we can see all the actual outputs were the same as target outputs**"
   ]
  },
  {
   "cell_type": "code",
   "execution_count": null,
   "id": "284270a6-c6a0-4eb6-8761-4fa11b3dce49",
   "metadata": {},
   "outputs": [],
   "source": []
  },
  {
   "cell_type": "code",
   "execution_count": null,
   "id": "10669514-a22e-444a-8f15-236e236635e8",
   "metadata": {},
   "outputs": [],
   "source": []
  },
  {
   "cell_type": "code",
   "execution_count": 19,
   "id": "b4b8d7d2-1d57-4b38-a31b-9917d82fda12",
   "metadata": {},
   "outputs": [
    {
     "data": {
      "text/plain": [
       "-900"
      ]
     },
     "execution_count": 19,
     "metadata": {},
     "output_type": "execute_result"
    }
   ],
   "source": [
    "2*50 + 12 * 22 + 12*22 - 2 * 22*22 - 360 -200"
   ]
  }
 ],
 "metadata": {
  "kernelspec": {
   "display_name": "Python 3 (ipykernel)",
   "language": "python",
   "name": "python3"
  },
  "language_info": {
   "codemirror_mode": {
    "name": "ipython",
    "version": 3
   },
   "file_extension": ".py",
   "mimetype": "text/x-python",
   "name": "python",
   "nbconvert_exporter": "python",
   "pygments_lexer": "ipython3",
   "version": "3.8.10"
  }
 },
 "nbformat": 4,
 "nbformat_minor": 5
}
